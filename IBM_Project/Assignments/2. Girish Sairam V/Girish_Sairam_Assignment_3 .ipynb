{
  "nbformat": 4,
  "nbformat_minor": 0,
  "metadata": {
    "colab": {
      "provenance": []
    },
    "kernelspec": {
      "name": "python3",
      "display_name": "Python 3"
    },
    "language_info": {
      "name": "python"
    }
  },
  "cells": [
    {
      "cell_type": "markdown",
      "source": [
        "#Assignment 3\n"
      ],
      "metadata": {
        "id": "Y-SWXJz6KrvO"
      }
    },
    {
      "cell_type": "markdown",
      "source": [
        "#Importing Packages and loading the dataset"
      ],
      "metadata": {
        "id": "f1MgPTnCM_ik"
      }
    },
    {
      "cell_type": "code",
      "source": [
        "from tensorflow.keras.models import Sequential\n",
        "from tensorflow.keras.layers import Convolution2D,MaxPooling2D,Flatten,Dense\n",
        "from tensorflow.keras.preprocessing.image import ImageDataGenerator as idm\n",
        "from keras.preprocessing import image\n",
        "import numpy as np\n",
        "from google.colab import drive\n",
        "drive.mount('/content/drive')\n",
        "import warnings\n",
        "#Supressing warnings\n",
        "warnings.filterwarnings('ignore')"
      ],
      "metadata": {
        "id": "RVrxKNNRND2l",
        "colab": {
          "base_uri": "https://localhost:8080/"
        },
        "outputId": "c28e88b2-59b1-4d7a-feef-ec060a4b3d71"
      },
      "execution_count": 42,
      "outputs": [
        {
          "output_type": "stream",
          "name": "stdout",
          "text": [
            "Drive already mounted at /content/drive; to attempt to forcibly remount, call drive.mount(\"/content/drive\", force_remount=True).\n"
          ]
        }
      ]
    },
    {
      "cell_type": "markdown",
      "source": [
        "# 2.Image Augmentation"
      ],
      "metadata": {
        "id": "NvKmqbBpNr60"
      }
    },
    {
      "cell_type": "code",
      "source": [
        "# Creating augmentation on training variable\n",
        "train_flowers=idm(rescale=1./255,zoom_range=0.2,horizontal_flip=True)\n",
        "\n",
        "# Passing training data to train variable\n",
        "Xtrain = train_flowers.flow_from_directory('/content/drive/MyDrive/Assignment Dataset/flowers',target_size=(76,76),class_mode='categorical',batch_size=100)"
      ],
      "metadata": {
        "id": "Hibiw2_QNvDA",
        "colab": {
          "base_uri": "https://localhost:8080/"
        },
        "outputId": "05d4c9dd-a86c-4658-a977-ddce37a1c99a"
      },
      "execution_count": 36,
      "outputs": [
        {
          "output_type": "stream",
          "name": "stdout",
          "text": [
            "Found 4317 images belonging to 5 classes.\n"
          ]
        }
      ]
    },
    {
      "cell_type": "code",
      "source": [
        "# Creating augmentation on testing variable\n",
        "test_flowers=idm(rescale=1./255)\n",
        "\n",
        "# Passing testing data to test variable\n",
        "Xtest = test_flowers.flow_from_directory('/content/drive/MyDrive/Assignment Dataset/flowers',target_size=(76,76),class_mode='categorical',batch_size=100)"
      ],
      "metadata": {
        "id": "EFaav0igOU4O",
        "colab": {
          "base_uri": "https://localhost:8080/"
        },
        "outputId": "8f482e60-3b9c-4595-a932-48ce2abf4cb2"
      },
      "execution_count": 38,
      "outputs": [
        {
          "output_type": "stream",
          "name": "stdout",
          "text": [
            "Found 4317 images belonging to 5 classes.\n"
          ]
        }
      ]
    },
    {
      "cell_type": "markdown",
      "source": [
        "#3 & 4.Creating Model and Adding layers"
      ],
      "metadata": {
        "id": "4UFGMaJgSsTq"
      }
    },
    {
      "cell_type": "code",
      "source": [
        "Flower_model = Sequential()\n",
        "Flower_model.add(Convolution2D(32,(3,3),activation='relu',input_shape=(76,76,3)))\n",
        "Flower_model.add(MaxPooling2D(pool_size=(2,2)))\n",
        "Flower_model.add(Flatten())\n",
        "Flower_model.add(Dense(300,activation='relu'))\n",
        "Flower_model.add(Dense(150,activation='relu'))\n",
        "Flower_model.add(Dense(5,activation='softmax'))"
      ],
      "metadata": {
        "id": "TtD2CeNrSt2Y"
      },
      "execution_count": 106,
      "outputs": []
    },
    {
      "cell_type": "markdown",
      "source": [
        "#5.Compiling the model"
      ],
      "metadata": {
        "id": "YR7oyHYlidYr"
      }
    },
    {
      "cell_type": "code",
      "source": [
        "Flower_model.compile(optimizer='adam',loss='categorical_crossentropy',metrics=['accuracy'])"
      ],
      "metadata": {
        "id": "f3PKgIc4T3Gg"
      },
      "execution_count": 107,
      "outputs": []
    },
    {
      "cell_type": "markdown",
      "source": [
        "#6. Fit the Model"
      ],
      "metadata": {
        "id": "sdMctRVCUURC"
      }
    },
    {
      "cell_type": "code",
      "source": [
        "Flower_model.fit_generator(Xtrain,steps_per_epoch= len (Xtrain),epochs= 10,validation_data=Xtest,validation_steps= len (Xtest))"
      ],
      "metadata": {
        "colab": {
          "base_uri": "https://localhost:8080/"
        },
        "id": "B4GRVOUJUajl",
        "outputId": "e4dabfa8-d173-4be6-b327-b96c50e23ecb"
      },
      "execution_count": 105,
      "outputs": [
        {
          "output_type": "stream",
          "name": "stdout",
          "text": [
            "Epoch 1/10\n",
            "44/44 [==============================] - 50s 1s/step - loss: 1.5659 - accuracy: 0.3692 - val_loss: 1.2139 - val_accuracy: 0.5022\n",
            "Epoch 2/10\n",
            "44/44 [==============================] - 48s 1s/step - loss: 1.1107 - accuracy: 0.5420 - val_loss: 1.0876 - val_accuracy: 0.5847\n",
            "Epoch 3/10\n",
            "44/44 [==============================] - 48s 1s/step - loss: 1.0149 - accuracy: 0.6006 - val_loss: 1.0763 - val_accuracy: 0.5810\n",
            "Epoch 4/10\n",
            "44/44 [==============================] - 49s 1s/step - loss: 0.9310 - accuracy: 0.6456 - val_loss: 0.8610 - val_accuracy: 0.6736\n",
            "Epoch 5/10\n",
            "44/44 [==============================] - 48s 1s/step - loss: 0.8593 - accuracy: 0.6715 - val_loss: 0.8155 - val_accuracy: 0.6933\n",
            "Epoch 6/10\n",
            "44/44 [==============================] - 47s 1s/step - loss: 0.8197 - accuracy: 0.6910 - val_loss: 0.7720 - val_accuracy: 0.7132\n",
            "Epoch 7/10\n",
            "44/44 [==============================] - 48s 1s/step - loss: 0.7673 - accuracy: 0.7051 - val_loss: 0.7954 - val_accuracy: 0.7044\n",
            "Epoch 8/10\n",
            "44/44 [==============================] - 47s 1s/step - loss: 0.7366 - accuracy: 0.7267 - val_loss: 0.7716 - val_accuracy: 0.7213\n",
            "Epoch 9/10\n",
            "44/44 [==============================] - 48s 1s/step - loss: 0.6921 - accuracy: 0.7343 - val_loss: 0.6432 - val_accuracy: 0.7501\n",
            "Epoch 10/10\n",
            "44/44 [==============================] - 47s 1s/step - loss: 0.6527 - accuracy: 0.7575 - val_loss: 0.6604 - val_accuracy: 0.7554\n"
          ]
        },
        {
          "output_type": "execute_result",
          "data": {
            "text/plain": [
              "<keras.callbacks.History at 0x7f9608202090>"
            ]
          },
          "metadata": {},
          "execution_count": 105
        }
      ]
    },
    {
      "cell_type": "markdown",
      "source": [
        "#7. Save the model"
      ],
      "metadata": {
        "id": "HUrKXOqSWoyI"
      }
    },
    {
      "cell_type": "code",
      "source": [
        "Flower_model.save('Flower.h5')"
      ],
      "metadata": {
        "id": "7Ge-hXhNXKnD"
      },
      "execution_count": 40,
      "outputs": []
    },
    {
      "cell_type": "markdown",
      "source": [
        "#8. Test the model"
      ],
      "metadata": {
        "id": "h1kh3jlnXOsx"
      }
    },
    {
      "cell_type": "code",
      "source": [
        "from tensorflow.keras.preprocessing import image\n",
        "test1=image.load_img('/content/drive/MyDrive/Assignment Dataset/flowers/dandelion/138166590_47c6cb9dd0.jpg',target_size=(76,76))\n",
        "test1"
      ],
      "metadata": {
        "colab": {
          "base_uri": "https://localhost:8080/",
          "height": 93
        },
        "id": "cLSmt_R_XSnP",
        "outputId": "1b41ee16-2e6d-4096-aa56-d99baa6080c9"
      },
      "execution_count": 108,
      "outputs": [
        {
          "output_type": "execute_result",
          "data": {
            "text/plain": [
              "<PIL.Image.Image image mode=RGB size=76x76 at 0x7F96080A9890>"
            ],
            "image/png": "[encoded data removed]"
          },
          "metadata": {},
          "execution_count": 108
        }
      ]
    },
    {
      "cell_type": "code",
      "source": [
        "x=image.img_to_array(test1)\n",
        "x=np.expand_dims(x,axis=0)\n",
        "predicted=np.argmax(Flower_model.predict(x))\n",
        "Prediction_category=['daisy','dandelion','rose','sunflower','tulip']\n",
        "Prediction_category[predicted]"
      ],
      "metadata": {
        "colab": {
          "base_uri": "https://localhost:8080/",
          "height": 36
        },
        "id": "eJgk-zXiY_MP",
        "outputId": "5c3eb4e6-1478-4b7d-efed-bfa00357e9ea"
      },
      "execution_count": 88,
      "outputs": [
        {
          "output_type": "execute_result",
          "data": {
            "text/plain": [
              "'dandelion'"
            ],
            "application/vnd.google.colaboratory.intrinsic+json": {
              "type": "string"
            }
          },
          "metadata": {},
          "execution_count": 88
        }
      ]
    },
    {
      "cell_type": "code",
      "source": [
        "test2=image.load_img('/content/drive/MyDrive/Assignment Dataset/flowers/sunflower/14121915990_4b76718077_m.jpg',target_size=(76,76))\n",
        "test2"
      ],
      "metadata": {
        "colab": {
          "base_uri": "https://localhost:8080/",
          "height": 93
        },
        "id": "NlEBeE4plthD",
        "outputId": "9ce72baf-ee2f-4987-8333-30e0b6bb8e76"
      },
      "execution_count": 103,
      "outputs": [
        {
          "output_type": "execute_result",
          "data": {
            "text/plain": [
              "<PIL.Image.Image image mode=RGB size=76x76 at 0x7F96081F8550>"
            ],
            "image/png": "[encoded data removed]"
          },
          "metadata": {},
          "execution_count": 103
        }
      ]
    },
    {
      "cell_type": "code",
      "source": [
        "y = image.img_to_array(test2)\n",
        "y = np.expand_dims(y,axis=0)\n",
        "predicted = np.argmax(Flower_model.predict(y))\n",
        "Prediction_category = ['daisy','dandelion','rose','sunflower','tulip']\n",
        "Prediction_category[predicted]"
      ],
      "metadata": {
        "colab": {
          "base_uri": "https://localhost:8080/",
          "height": 36
        },
        "id": "NKSdrnRjmGyE",
        "outputId": "58a9434b-9a6b-44e9-b090-bd6cd599978d"
      },
      "execution_count": 115,
      "outputs": [
        {
          "output_type": "execute_result",
          "data": {
            "text/plain": [
              "'sunflower'"
            ],
            "application/vnd.google.colaboratory.intrinsic+json": {
              "type": "string"
            }
          },
          "metadata": {},
          "execution_count": 115
        }
      ]
    }
  ]
}